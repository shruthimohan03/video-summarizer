{
  "nbformat": 4,
  "nbformat_minor": 0,
  "metadata": {
    "colab": {
      "provenance": [],
      "authorship_tag": "ABX9TyOgJzVA8tWXhjjYcAKHv8ST",
      "include_colab_link": true
    },
    "kernelspec": {
      "name": "python3",
      "display_name": "Python 3"
    },
    "language_info": {
      "name": "python"
    }
  },
  "cells": [
    {
      "cell_type": "markdown",
      "metadata": {
        "id": "view-in-github",
        "colab_type": "text"
      },
      "source": [
        "<a href=\"https://colab.research.google.com/github/shruthimohan03/video-summarizer/blob/main/GMM_for_Extractive_Summarization_Irrelevant_sentences.ipynb\" target=\"_parent\"><img src=\"https://colab.research.google.com/assets/colab-badge.svg\" alt=\"Open In Colab\"/></a>"
      ]
    },
    {
      "cell_type": "code",
      "execution_count": null,
      "metadata": {
        "id": "nFeEIv_AfSql"
      },
      "outputs": [],
      "source": [
        "import numpy as np\n",
        "from sklearn.feature_extraction.text import TfidfVectorizer\n",
        "from sklearn.mixture import GaussianMixture\n",
        "from sklearn.metrics.pairwise import cosine_similarity\n",
        "import re"
      ]
    },
    {
      "cell_type": "code",
      "source": [
        "# Step 1: Load and preprocess the text file\n",
        "def load_and_preprocess(file_path):\n",
        "    with open(file_path, 'r', encoding='utf-8') as file:\n",
        "        content = file.read()\n",
        "    # Split text into sentences based on periods or question marks\n",
        "    sentences = re.split(r'(?<!\\w\\.\\w.)(?<![A-Z][a-z]\\.)(?<=\\.|\\?)\\s', content)\n",
        "    # Clean sentences (keep full stops, remove other punctuations, and strip extra spaces)\n",
        "    sentences = [\n",
        "        re.sub(r'[^a-zA-Z0-9\\s\\.]', '', sentence).strip() for sentence in sentences if sentence.strip()\n",
        "    ]\n",
        "    return sentences"
      ],
      "metadata": {
        "id": "qtwlabhMfVTw"
      },
      "execution_count": null,
      "outputs": []
    },
    {
      "cell_type": "code",
      "source": [
        "# Step 2: Preprocess and vectorize sentences\n",
        "def preprocess_and_vectorize(sentences):\n",
        "    tfidf_vectorizer = TfidfVectorizer(stop_words='english')\n",
        "    sentence_vectors = tfidf_vectorizer.fit_transform(sentences).toarray()\n",
        "    return sentence_vectors"
      ],
      "metadata": {
        "id": "dXsdJzrufZju"
      },
      "execution_count": null,
      "outputs": []
    },
    {
      "cell_type": "code",
      "source": [
        "# Step 3: Fit GMM\n",
        "def fit_gmm(sentence_vectors, n_clusters):\n",
        "    gmm = GaussianMixture(n_components=n_clusters, random_state=42)\n",
        "    gmm.fit(sentence_vectors)\n",
        "    labels = gmm.predict(sentence_vectors)\n",
        "    return labels"
      ],
      "metadata": {
        "id": "mEhZKHLtfbyU"
      },
      "execution_count": null,
      "outputs": []
    },
    {
      "cell_type": "code",
      "source": [
        "# Step 4: Extract representative sentences and view all sentences in each cluster\n",
        "def extract_summary_and_view_clusters(sentences, sentence_vectors, labels):\n",
        "    summary = []\n",
        "    clusters = {}\n",
        "    unique_labels = np.unique(labels)\n",
        "\n",
        "    for label in unique_labels:\n",
        "        # Get indices of sentences in the current cluster\n",
        "        cluster_indices = np.where(labels == label)[0]\n",
        "\n",
        "        # Group sentences in clusters\n",
        "        clusters[label] = [sentences[i] for i in cluster_indices]\n",
        "\n",
        "        # Find the most central sentence in the cluster\n",
        "        cluster_center = np.mean(sentence_vectors[cluster_indices], axis=0)\n",
        "        central_index = cluster_indices[np.argmax(cosine_similarity([cluster_center], sentence_vectors[cluster_indices])[0])]\n",
        "        summary.append(sentences[central_index])\n",
        "\n",
        "    return ''.join(summary), clusters"
      ],
      "metadata": {
        "id": "OELUoQVofrA1"
      },
      "execution_count": null,
      "outputs": []
    },
    {
      "cell_type": "code",
      "source": [
        "# Example\n",
        "file_path = 'irrelevant_document.txt'\n",
        "sentences = load_and_preprocess(file_path)\n",
        "sentence_vectors = preprocess_and_vectorize(sentences)\n",
        "\n",
        "n_clusters = 11  # no of optimal is 6 for this dataset as found using elbow method\n",
        "labels = fit_gmm(sentence_vectors, n_clusters)\n",
        "summary,clusters = extract_summary_and_view_clusters(sentences, sentence_vectors, labels)\n",
        "\n",
        "# Print sentences in each cluster\n",
        "for cluster_id, cluster_sentences in clusters.items():\n",
        "    print(f\"Cluster {cluster_id}:\")\n",
        "    for sentence in cluster_sentences:\n",
        "        print(f\"  - {sentence}\")\n",
        "    print()"
      ],
      "metadata": {
        "colab": {
          "base_uri": "https://localhost:8080/"
        },
        "id": "JcGAELexfi-P",
        "outputId": "e4baadbb-0d4b-465e-dae9-83f85e5655a1"
      },
      "execution_count": null,
      "outputs": [
        {
          "output_type": "stream",
          "name": "stdout",
          "text": [
            "Cluster 0:\n",
            "  - Over the decades computers have evolved into compact affordable and versatile tools that are integral to our daily lives.\n",
            "  - One of the significant milestones in computer history was the invention of the internet.\n",
            "  - The internet transformed computers from standalone devices into interconnected tools of communication and information exchange.\n",
            "  - Today billions of devices are connected via the internet forming a global network that has fostered innovation and connectivity.\n",
            "  - In the healthcare sector computers are used for patient record management diagnostic tools and even robotic surgeries.\n",
            "\n",
            "Cluster 1:\n",
            "  - Initially these machines were massive expensive and designed for specialized purposes.\n",
            "  - In conclusion computers are much more than machines they are catalysts of progress and innovation.\n",
            "\n",
            "Cluster 2:\n",
            "  - Computers have revolutionized the way we live work and communicate.\n",
            "  - Their history dates back to the mid20th century when the first electronic computers were developed.\n",
            "  - This involves a sequence of electrical signals that represent the numbers 0 and 1.\n",
            "  - The Eiffel Tower in Paris lights up every evening attracting thousands of tourists from around the world.\n",
            "  - The versatility of computers is evident in their applications.\n",
            "  - Looking to the future the potential of computers seems boundless.\n",
            "  - These technologies have the potential to tackle problems currently deemed unsolvable.\n",
            "  - By understanding their capabilities and limitations we can harness their potential to create a better world.\n",
            "\n",
            "Cluster 3:\n",
            "  - Industries such as entertainment transportation and finance have also been profoundly impacted by computer technology.\n",
            "  - However the widespread use of computers is not without challenges.\n",
            "  - Addressing these challenges requires a balanced approach that leverages technology while ensuring responsible use.\n",
            "\n",
            "Cluster 4:\n",
            "  - Modern computers are powered by microprocessors which are highly complex circuits capable of performing millions of calculations per second.\n",
            "  - These calculations enable tasks ranging from simple arithmetic to sophisticated artificial intelligence.\n",
            "  - Innovations such as quantum computing and advanced artificial intelligence promise to redefine our understanding of computation and problemsolving.\n",
            "\n",
            "Cluster 5:\n",
            "  - In education elearning platforms and virtual classrooms have made learning accessible to millions worldwide.\n",
            "\n",
            "Cluster 6:\n",
            "  - Solar panels convert sunlight into electricity making them a popular choice for sustainable energy solutions.\n",
            "\n",
            "Cluster 7:\n",
            "  - At their core computers operate by processing data using binary logic.\n",
            "  - Issues such as cybersecurity threats digital addiction and ethical concerns around data privacy have emerged as significant concerns.\n",
            "\n",
            "Cluster 8:\n",
            "  - The Amazon rainforest is often referred to as the lungs of the Earth due to its vast biodiversity and oxygen production.\n",
            "\n",
            "Cluster 9:\n",
            "  - Penguins are flightless birds that primarily inhabit the icy regions of Antarctica.\n",
            "\n",
            "Cluster 10:\n",
            "  - A thrilling football match between Manchester United and Liverpool ended in a dramatic lastminute goal.\n",
            "\n"
          ]
        }
      ]
    },
    {
      "cell_type": "code",
      "source": [
        "# Save the summarized text to a file\n",
        "with open(\"irrelevant_gmm_centroid_method_11_clusters.txt\", \"w\") as file:\n",
        "    file.write(summary)\n",
        "\n",
        "print(\"Summarization completed.\")"
      ],
      "metadata": {
        "colab": {
          "base_uri": "https://localhost:8080/"
        },
        "id": "tFBFammpfpAy",
        "outputId": "76a7f136-8bbb-4f70-bb62-0a6bce59f387"
      },
      "execution_count": null,
      "outputs": [
        {
          "output_type": "stream",
          "name": "stdout",
          "text": [
            "Summarization completed.\n"
          ]
        }
      ]
    },
    {
      "cell_type": "code",
      "source": [
        "summary"
      ],
      "metadata": {
        "colab": {
          "base_uri": "https://localhost:8080/",
          "height": 191
        },
        "id": "lK1TJJHkgQn4",
        "outputId": "59b7e43d-dbe2-4395-8e1c-0b20bc5f4af8"
      },
      "execution_count": null,
      "outputs": [
        {
          "output_type": "execute_result",
          "data": {
            "text/plain": [
              "'The internet transformed computers from standalone devices into interconnected tools of communication and information exchange.In conclusion computers are much more than machines they are catalysts of progress and innovation.Looking to the future the potential of computers seems boundless.Addressing these challenges requires a balanced approach that leverages technology while ensuring responsible use.These calculations enable tasks ranging from simple arithmetic to sophisticated artificial intelligence.In education elearning platforms and virtual classrooms have made learning accessible to millions worldwide.Solar panels convert sunlight into electricity making them a popular choice for sustainable energy solutions.At their core computers operate by processing data using binary logic.The Amazon rainforest is often referred to as the lungs of the Earth due to its vast biodiversity and oxygen production.Penguins are flightless birds that primarily inhabit the icy regions of Antarctica.A thrilling football match between Manchester United and Liverpool ended in a dramatic lastminute goal.'"
            ],
            "application/vnd.google.colaboratory.intrinsic+json": {
              "type": "string"
            }
          },
          "metadata": {},
          "execution_count": 19
        }
      ]
    }
  ]
}
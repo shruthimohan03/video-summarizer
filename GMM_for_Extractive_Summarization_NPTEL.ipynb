{
  "nbformat": 4,
  "nbformat_minor": 0,
  "metadata": {
    "colab": {
      "provenance": [],
      "authorship_tag": "ABX9TyO0kZ6XmXzPsx9N8oG0BU85",
      "include_colab_link": true
    },
    "kernelspec": {
      "name": "python3",
      "display_name": "Python 3"
    },
    "language_info": {
      "name": "python"
    }
  },
  "cells": [
    {
      "cell_type": "markdown",
      "metadata": {
        "id": "view-in-github",
        "colab_type": "text"
      },
      "source": [
        "<a href=\"https://colab.research.google.com/github/shruthimohan03/video-summarizer/blob/main/GMM_for_Extractive_Summarization_NPTEL.ipynb\" target=\"_parent\"><img src=\"https://colab.research.google.com/assets/colab-badge.svg\" alt=\"Open In Colab\"/></a>"
      ]
    },
    {
      "cell_type": "code",
      "source": [
        "import nltk\n",
        "nltk.download('punkt_tab')"
      ],
      "metadata": {
        "colab": {
          "base_uri": "https://localhost:8080/"
        },
        "id": "QL90mBwvmpnS",
        "outputId": "2ae1fbac-a23d-4226-84bb-645784e6ec11"
      },
      "execution_count": 10,
      "outputs": [
        {
          "output_type": "stream",
          "name": "stderr",
          "text": [
            "[nltk_data] Downloading package punkt_tab to /root/nltk_data...\n",
            "[nltk_data]   Unzipping tokenizers/punkt_tab.zip.\n"
          ]
        },
        {
          "output_type": "execute_result",
          "data": {
            "text/plain": [
              "True"
            ]
          },
          "metadata": {},
          "execution_count": 10
        }
      ]
    },
    {
      "cell_type": "code",
      "source": [],
      "metadata": {
        "id": "ue8UR92Clyj4"
      },
      "execution_count": null,
      "outputs": []
    },
    {
      "cell_type": "code",
      "execution_count": 20,
      "metadata": {
        "id": "nFeEIv_AfSql"
      },
      "outputs": [],
      "source": [
        "import numpy as np\n",
        "from sklearn.feature_extraction.text import TfidfVectorizer\n",
        "from sklearn.mixture import GaussianMixture\n",
        "from sklearn.metrics.pairwise import cosine_similarity\n",
        "import re\n",
        "import matplotlib.pyplot as plt\n",
        "from scipy.spatial.distance import cdist"
      ]
    },
    {
      "cell_type": "code",
      "source": [
        "# Step 1: Load and preprocess the text file\n",
        "def load_and_preprocess(file_path):\n",
        "    with open(file_path, 'r', encoding='utf-8') as file:\n",
        "        content = file.read()\n",
        "    # Split text into sentences based on periods or question marks\n",
        "    sentences = re.split(r'(?<!\\w\\.\\w.)(?<![A-Z][a-z]\\.)(?<=\\.|\\?)\\s', content)\n",
        "    # Clean sentences (keep full stops, remove other punctuations, and strip extra spaces)\n",
        "    sentences = [\n",
        "        re.sub(r'[^a-zA-Z0-9\\s\\.]', '', sentence).strip() for sentence in sentences if sentence.strip()\n",
        "    ]\n",
        "    return sentences"
      ],
      "metadata": {
        "id": "qtwlabhMfVTw"
      },
      "execution_count": 16,
      "outputs": []
    },
    {
      "cell_type": "code",
      "source": [
        "# Step 2: Preprocess and vectorize sentences\n",
        "def preprocess_and_vectorize(sentences):\n",
        "    tfidf_vectorizer = TfidfVectorizer(stop_words='english')\n",
        "    sentence_vectors = tfidf_vectorizer.fit_transform(sentences).toarray()\n",
        "    return sentence_vectors"
      ],
      "metadata": {
        "id": "dXsdJzrufZju"
      },
      "execution_count": 17,
      "outputs": []
    },
    {
      "cell_type": "code",
      "source": [
        "# Step 3: Fit GMM\n",
        "def fit_gmm(sentence_vectors, n_clusters):\n",
        "    gmm = GaussianMixture(n_components=n_clusters, random_state=42)\n",
        "    gmm.fit(sentence_vectors)\n",
        "    labels = gmm.predict(sentence_vectors)\n",
        "    return labels"
      ],
      "metadata": {
        "id": "mEhZKHLtfbyU"
      },
      "execution_count": 18,
      "outputs": []
    },
    {
      "cell_type": "code",
      "source": [
        "# Step 4: Extract representative sentences and view all sentences in each cluster\n",
        "def extract_summary_and_view_clusters(sentences, sentence_vectors, labels):\n",
        "    summary = []\n",
        "    clusters = {}\n",
        "    unique_labels = np.unique(labels)\n",
        "\n",
        "    for label in unique_labels:\n",
        "        # Get indices of sentences in the current cluster\n",
        "        cluster_indices = np.where(labels == label)[0]\n",
        "\n",
        "        # Group sentences in clusters\n",
        "        clusters[label] = [sentences[i] for i in cluster_indices]\n",
        "\n",
        "        # Find the most central sentence in the cluster\n",
        "        cluster_center = np.mean(sentence_vectors[cluster_indices], axis=0)\n",
        "        central_index = cluster_indices[np.argmax(cosine_similarity([cluster_center], sentence_vectors[cluster_indices])[0])]\n",
        "        summary.append(sentences[central_index])\n",
        "\n",
        "    return ''.join(summary), clusters"
      ],
      "metadata": {
        "id": "OELUoQVofrA1"
      },
      "execution_count": 21,
      "outputs": []
    },
    {
      "cell_type": "markdown",
      "source": [
        "Finding the optimal number of clusters using Elbow Method"
      ],
      "metadata": {
        "id": "2RROcZ72lRCh"
      }
    },
    {
      "cell_type": "code",
      "source": [
        "import numpy as np\n",
        "import matplotlib.pyplot as plt\n",
        "from sklearn.mixture import GaussianMixture\n",
        "from scipy.spatial.distance import cdist\n",
        "\n",
        "def plot_elbow_method(sentence_vectors, max_clusters=10):\n",
        "    distortions = []\n",
        "    cluster_range = range(2, max_clusters + 1)\n",
        "\n",
        "    for k in cluster_range:\n",
        "        gmm = GaussianMixture(n_components=k, random_state=42)\n",
        "        gmm.fit(sentence_vectors)\n",
        "\n",
        "        # Use the negative log-likelihood as a distortion measure\n",
        "        distortions.append(-gmm.score(sentence_vectors))\n",
        "\n",
        "    # Plot the elbow curve\n",
        "    plt.figure(figsize=(8, 5))\n",
        "    plt.plot(cluster_range, distortions, marker='o', linestyle='--')\n",
        "    plt.xlabel('Number of Clusters')\n",
        "    plt.ylabel('Negative Log-Likelihood')\n",
        "    plt.title('Elbow Method for Optimal Clusters')\n",
        "    plt.show()\n",
        "\n",
        "    return distortions"
      ],
      "metadata": {
        "id": "HDjJHxQllM5s"
      },
      "execution_count": 24,
      "outputs": []
    },
    {
      "cell_type": "code",
      "source": [
        "# Example\n",
        "file_path = '/content/transcribed_text_nptel_video_1.txt'\n",
        "sentences = load_and_preprocess(file_path)\n",
        "sentence_vectors = preprocess_and_vectorize(sentences)\n",
        "\n",
        "# Plot elbow method to find the optimal number of clusters\n",
        "plot_elbow_method(sentence_vectors)"
      ],
      "metadata": {
        "colab": {
          "base_uri": "https://localhost:8080/",
          "height": 650
        },
        "id": "RqgnOFpllynN",
        "outputId": "6e7a6a79-cce0-4215-ae01-0abde885d76f"
      },
      "execution_count": 25,
      "outputs": [
        {
          "output_type": "display_data",
          "data": {
            "text/plain": [
              "<Figure size 800x500 with 1 Axes>"
            ],
            "image/png": "[encoded data removed]"
          },
          "metadata": {}
        },
        {
          "output_type": "execute_result",
          "data": {
            "text/plain": [
              "[-2946.5036485526844,\n",
              " -3231.1517531392683,\n",
              " -3391.826190805845,\n",
              " -3443.562320679887,\n",
              " -3569.6569085523297,\n",
              " -3544.5497699336365,\n",
              " -3635.953734374992,\n",
              " -3687.2262175120836,\n",
              " -3710.4988153702766]"
            ]
          },
          "metadata": {},
          "execution_count": 25
        }
      ]
    },
    {
      "cell_type": "code",
      "source": [
        "# Example\n",
        "file_path = '/content/transcribed_text_nptel_video_1.txt'\n",
        "sentences = load_and_preprocess(file_path)\n",
        "sentence_vectors = preprocess_and_vectorize(sentences)\n",
        "\n",
        "n_clusters = 5 # can take 6 too\n",
        "labels = fit_gmm(sentence_vectors, n_clusters)\n",
        "summary,clusters = extract_summary_and_view_clusters(sentences, sentence_vectors, labels)\n",
        "\n",
        "# Print sentences in each cluster\n",
        "for cluster_id, cluster_sentences in clusters.items():\n",
        "    print(f\"Cluster {cluster_id}:\")\n",
        "    for sentence in cluster_sentences:\n",
        "        print(f\"  - {sentence}\")\n",
        "    print()"
      ],
      "metadata": {
        "colab": {
          "base_uri": "https://localhost:8080/"
        },
        "id": "JcGAELexfi-P",
        "outputId": "9ac63525-c825-4a22-8ba7-cc01d3eb1d04"
      },
      "execution_count": 26,
      "outputs": [
        {
          "output_type": "stream",
          "name": "stdout",
          "text": [
            "Cluster 0:\n",
            "  - So in text processing if we face this kind of problem in nearly every simple task that we are doing.\n",
            "  - Now so the idea is very simple.\n",
            "  - So in general my classifiers that I will build can be some rules that I write by hand some simple iftenelse rules.\n",
            "  - Let us see can we build a simple rulebased classifier\n",
            "  - So we will start with the example of a simple decision tree.\n",
            "  - So I can have this simple iftenelse kind of decision tree here.\n",
            "  - So this is very very simple if then as rules.\n",
            "  - So as you have seen this is a simple if then else statement.\n",
            "  - So suppose I give you a simple sentence here I have a can opener but I cannot open these cans.\n",
            "  - So one question I have is whether I treated as simple fill land as it is fill lands or I converted to fill lands by removing the first of it.\n",
            "  - So this looks again a simple problem but we will see it is not that simple.\n",
            "  - So let us say this is a simple single sentence in Sanskrit but this is a huge this looks like a simple word but it is not a single word.\n",
            "\n",
            "Cluster 1:\n",
            "  - So in particular GIFs law and Heaps law that how the words in the vocabulary are distributed in a corpus.\n",
            "  - There are certain words that are very very common.\n",
            "  - So we saw that roughly 100 words in the vocabulary make for 50 percent of the corpus but by that I mean that number of tokens.\n",
            "  - And on the other hand there are 50 percent of the words in the vocabulary that occur only once.\n",
            "  - And GIFs law gives gave me a relation between the frequency and the rank of a word.\n",
            "  - As the name would suggest remember the name token token is an individual word in my corpus.\n",
            "  - Now I need to identify what are all the different words that are there in this sequence.\n",
            "  - So tokenization is the process by which I convert the string of characters into sequence of various words.\n",
            "  - So I am trying to segment it by the various words that I am observing.\n",
            "  - You might not have to go to the individual sentence and you can just talk about what are various words that are present in this document.\n",
            "  - So that I have a complete unit of words that I call as a sentence.\n",
            "  - So now for each dot or in general for every word I need to decide whether this is the end of the sentence or not the end of the sentence.\n",
            "  - So I am at a particular word I want to decide whether this is the end of the sentence or not.\n",
            "  - So I am at a word and the first thing I check is are there lots of blank lines after me\n",
            "  - So if I feel that there are a lot of blank lines after me that means after this word I may say this might be the end of the sentence with a good confidence.\n",
            "  - So I will again check for simplicity I might have a list of abbreviations and I can check if the word that I am currently facing is one of the abbreviations in my list.\n",
            "  - If the answer is no that means this word is not an abbreviation and this will be the end of the sentence.\n",
            "  - So suppose I see the word that is ending with dot.\n",
            "  - Can I use this as a feature whether my word starts within uppercase lowercase cap all caps all is in number.\n",
            "  - So let us see I have here I am here and my word is 4.3. So I am at dot I want to find out if it is the end of the sentence.\n",
            "  - If I can say that the previous the current word is a number it is a high probability that this will be in number and it will not be the end of the sentence.\n",
            "  - So again whenever I have the end of the sentence the next word in general starts with a capital.\n",
            "  - What is the length of the word ending with dot\n",
            "  - And I can also use probably the what is the probability that the word that is ending with dot occurs at the end of the sentence.\n",
            "  - Same thing I can do with the next word after dot.\n",
            "  - So you might be able to use any of these features to decide given a particular word is it the end of the sentence or not.\n",
            "  - So my 3 can be if the length of the word is between 5 to 7 I go to one class otherwise I go to another class.\n",
            "  - We said that the tokenization is a process of segmenting a string of characters in two words finding out what are the different words in this issue.\n",
            "  - If you count there are 11 different words 11 different words 11 different occurrences of words.\n",
            "  - So you have 11 word tokens but how many unique words are there.\n",
            "  - So you will find there are only 10 unique words which word repeats say the word I repeats twice.\n",
            "  - So my tokenization is to find out each of the 11 word tokens from the sentence.\n",
            "  - Similarly if you see what are do I treated as a single token or two tokens what are this problem you might have to solve in the same step whether I treated as a single token or multiple tokens same with I am shouldnt and so on.\n",
            "  - Similarly whenever we have named and it is like San Francisco should I treated as a single token or two separate tokens.\n",
            "  - So you might have to find out this particular sequence of tokens is a single entity and treated as a single entity not as multiple different tokens.\n",
            "  - Similarly if you find m dot p dot h do you call it a single token or multiple tokens.\n",
            "  - So now when you are trying to pre process and when you are retrieving such kind of hyphens you might have to join these together and you say you have to say that this is single word initiative and not initiate hyphen tape.\n",
            "  - But the problem is that this is not a single word.\n",
            "  - This is a term bound composed of four different words and the corresponding English meaning is this one.\n",
            "  - So you have four words in English when you are putting in French they make a compound.\n",
            "  - So you might want to find out what are the individual words in this particular compound.\n",
            "  - So this problem is also difficult because in general for a given utterance of a sequence of characters they might be more than one possible ways of breaking into sequence of words and both might be perfectly valid possibilities.\n",
            "  - So in Chinese we do not have any space between words and have to find out what are the places where I have to break these words and this problem is called tokenization word tokenization.\n",
            "  - It is composed of multiple words in Sanskrit and they are combined with this on the relation.\n",
            "  - This stands for a nice proverb in Sanskrit that translation English as one should tell the truth one should say kind words one should neither tell harsh truth not flatly flattening lies this is a rule for all times.\n",
            "  - This is a proverb and this is a single sentence that talks about this proverb but where all the words are combined with some relation.\n",
            "  - So there are multiple words in this sentence they are combined to make a single it looks like a single word.\n",
            "  - When you combine two words you also make certain changes at the boundary and this is called a Sanda operation.\n",
            "  - So that means when I am trying to analyze the sentence so this purpose sentence in Sanskrit I need to find out not only what are the breaks but what is the corresponding word from which this sentence is right.\n",
            "  - So from here I have to find out the actual words are Briyath plus Na that gives me this Briyana and this is very very common in Sanskrit that you are always combining words by doing Sanda operation.\n",
            "  - So this further complicates my problem of word segmentation or segmentation of.\n",
            "  - So this is just a list from Wikipedia what are the longest words in various languages\n",
            "  - Not the sentence is what the words.\n",
            "  - So you see in Sanskrit the longest word is composed of 431 characters it is the compound and then you have Greek and African and other languages.\n",
            "  - In English you see the longest word is of 45 characters this is non scientific.\n",
            "  - So what is the particular word in Sanskrit that is composed of 431 letters.\n",
            "  - So this was from the word Ambika Parinaya Champu by Tirum Lamba this is a single compound from his book.\n",
            "  - So now when I talk about this problem of tokenization in Sanskrit or in English this problem is also called word segmentation.\n",
            "  - I have a sequence of characters and you segment it to find out individual words.\n",
            "  - Now suppose that you have the dictionary and the words that you are that you are currently seeing all should be in the dictionary.\n",
            "  - In English in general we do not combine words to make a single word.\n",
            "  - So here different words are combined together without putting a boundary in between.\n",
            "  - So if you are given a hashtag and you have to analyze that you have to actually segment it into various words.\n",
            "  - Now from this finite alphabet I can generate a lot of words that are composed of various number of phonemes or letters from this alphabet.\n",
            "  - Now when I have a set of words I can now combine them together with an operation of Sunday.\n",
            "  - So I have a set of words W and I do a clean it words here.\n",
            "  - That means I can combine any number of words together but whenever I am combining words I am doing them by a Sunday operation because there is a relation between the words.\n",
            "  - So so I have my set of inserted words also called Padaj in Sanskrit and I have the relation of Sunday between them and that is how I generate a sentence.\n",
            "  - So that I can produce a finite set of word forms W 1 to W n.\n",
            "  - Now this is another problem that I will have to find out what is the most likely word sequence among all these 120 possibilities but we can use many many different models that we will not talk about in this lecture probably in some some other lectures.\n",
            "  - So that whenever even if it is starting the sentence and it occurs in capitals because of that in general I know that this is a word good w r d but this is not a generic rule.\n",
            "  - So in the problem of lamtaization is that you have to find out the actual dictionary head word from this they are derived and for that we use morphology.\n",
            "  - I am trying to find out the structure of a word by seeing what is the perqueous stem the head word and what is the affix that I apply to it.\n",
            "  - So you have which stems that are the the originally head words and the affix is that are what are the different units like as for plural etcetera you are applying to them to make the individual word.\n",
            "  - So there is another concept you have lamtaization where you are finding the actual dictionary head word.\n",
            "  - So this is also concept called stemming where you do not try to find the actual dictionary head word but you just try to remove certain suffixage and you or whatever you obtain is called stem.\n",
            "  - So this is a crude chopping of various suffixage in that word.\n",
            "  - So what we are doing here words like automate automatic automation all will be reduced to a single lemma automate here.\n",
            "  - I take a word if it ends with S S e s I remove e s from there and I end with S s.\n",
            "  - If not I see if the word ends with S s I keep bidage S s.\n",
            "  - If not I see if the word ends with S I remove that S.\n",
            "  - If there is a double S ending the word I retain it otherwise if there is a single S I remove that like that there are some other steps.\n",
            "  - So if there is a vowel in the in my word and the word ends with I and G I remove I and G.\n",
            "  - If you did not have this vowel you would have converted King to K and like that there is some other rules like if the word ends with Aishinal then I put A T E so relational so relational to relate and if the words and what ends with I Z R I can I remove that R digitize I Z digitize A T E R to A T E and if the word ends with L I remove that L if the word ends with Able I remove that Able if the words and with A T E I remove that A T E.\n",
            "  - It does not give me the correct dictionary had word but it is still this is a good practice in principle for information tree.\n",
            "\n",
            "Cluster 2:\n",
            "  - Hello everyone welcome back to the final lecture of the first week.\n",
            "  - So in the last lecture we were discussing about various empirical laws.\n",
            "  - And we saw that the distribution is not very uniform.\n",
            "  - And we discussed what are the various relationships among the vocabulary size and the number of tokens that I observe in a corpus.\n",
            "  - And also how they grow with us to each other.\n",
            "  - So we will cover the basic concepts and what are the challenges that one might face while doing the processing.\n",
            "  - So we are going to the basics of text processing.\n",
            "  - So we will start with the problem of tokenization.\n",
            "  - What I will face is a string of characters the sequence of characters.\n",
            "  - So now before going into what is tokenization I will just talk about a slightly related problem sentence segmentation.\n",
            "  - So this you may or may not have to do always and it depends on what is your application.\n",
            "  - So for example suppose you are doing classification for the whole document into certain classage.\n",
            "  - On the other hand suppose you are trying to find out what are the important sentences in this document.\n",
            "  - In that application you will have to go to the individual sentence.\n",
            "  - So now if you have to go to the individual sentence the first task that you will face is how do I segment this whole document into a sequence of sentences.\n",
            "  - So this is sentence one sentence two and so on and this task is called sentence segmentation.\n",
            "  - So now you might feel that this is very trivial task but let us see is it trivial.\n",
            "  - So what is sentence segmentation\n",
            "  - So problem of deciding where my sentence begins and ends.\n",
            "  - Now do you think there might be certain challenge involved\n",
            "  - That is it.\n",
            "  - So there are many ways in which I can end my sentence.\n",
            "  - So I can have exclamation or question mark that ends the sentence and they are mostly an ambiguous.\n",
            "  - So can you think of a scenario where I have a dot in English and but it is not the end of sentence.\n",
            "  - So you can find all sorts of abbreviations they end with a period.\n",
            "  - Doctor Mr. MPH.\n",
            "  - So you have three dots here.\n",
            "  - So you cannot call each of the this as the end of your sentence.\n",
            "  - So again you have numbers 2.44.3 and so on.\n",
            "  - So that means the problem of deciding whether a particular dot is the end of the sentence or not is not entirely trivial.\n",
            "  - So I need to build certain algorithm for finding out is it my end of the sentence.\n",
            "  - So even if it looks at trivial task we face this problem that can I always call dot as the end of the sentence.\n",
            "  - So how do we go about solving this.\n",
            "  - Now if you think about it whenever I see a dot or question mark or exclamation I always have to decide one of the two things.\n",
            "  - Is it the end of the sentence or is it not the end of the sentence.\n",
            "  - So any data point that I am seeing I have to divide into one of these two classes.\n",
            "  - So if you think of these as two classes end of the sentence or not end of the sentence.\n",
            "  - So each point you have to divide into one of the two classes.\n",
            "  - And this in general this problem in general is called classification problem.\n",
            "  - You are classifying into one of the two classes.\n",
            "  - So you have two classes and each data point you have to divide into one of the two classes.\n",
            "  - What do I mean by a binary classifier\n",
            "  - There are two classes end of the sentence or not end of the sentence.\n",
            "  - In general there can be multiple classes.\n",
            "  - Or it can be some expressions I say if my particular example matches with this sexual expression it is one plus if it does not match it is another class.\n",
            "  - Or I can build a machine learning classifier.\n",
            "  - So in this particular scenario what can be the simplest thing to do\n",
            "  - So by decision tree I mean a set of iftenelse statements.\n",
            "  - So this would happen in a text whenever this is the end of the paragraph and there are some blank lines.\n",
            "  - So that is why the branch hearsage yes this is the end of the sentence.\n",
            "  - So they are quite an ambiguous I will say this is the end of the sentence.\n",
            "  - Now suppose it is not then I will check if the final punctuation is a period.\n",
            "  - So if it is a period if it is not a period it is easy to say that this is not the end of the sentence.\n",
            "  - But suppose this is a period.\n",
            "  - So again I cannot say for certain if it is the end of the sentence.\n",
            "  - If it is there I will say this is not the two sentence.\n",
            "  - If it is so here I am accept or any other abbreviation if the answer is yes I am not an order sentence.\n",
            "  - This may not be correct but this is one particular way in which this problem can be solved.\n",
            "  - We call them as various features.\n",
            "  - They are various observations that you make from your corpus.\n",
            "  - So what are some examples\n",
            "  - How will it help\n",
            "  - So this can be used as another feature.\n",
            "  - We are mostly in uppercase.\n",
            "  - So suppose I have doctor and it starts with an uppercase I can say that this might be an abbreviation.\n",
            "  - Same with lowercase lowercase will give me more probability that this is not an abbreviation.\n",
            "  - So is it uppercase lowercase capital or number.\n",
            "  - So how will that help\n",
            "  - So again this can be used.\n",
            "  - What can be some other features\n",
            "  - So I can have some numerical features.\n",
            "  - So that is I will have certain thresholds.\n",
            "  - Is it if the length is small it might be an abbreviation if the length is larger it might not be an abbreviation.\n",
            "  - So if it is really the end of the sentence it might happen that in a large corpus this end sentence quite often.\n",
            "  - Is it the start of the sentence\n",
            "  - What is the probability that it occurs in the start of sentence in a large corpus\n",
            "  - So in Hindi you will see that in general there is only a dunder that you use to indicate the end of the sentence and this is not used for any other purpose.\n",
            "  - Now we will see some of the examples in the same lecture.\n",
            "  - Now so how do we implement it recently\n",
            "  - So now what is important is that you choose the correct set of features.\n",
            "  - So how do you go about choosing the set of features\n",
            "  - You will see in your from your data what are some observations that can separate my two classes here.\n",
            "  - So all these are my observations that I use as my features.\n",
            "  - So now here is one problem suppose I keep on increasing my features this can be both numerical or nonunimegal features.\n",
            "  - It might be difficult to set up my if then else rules by hand.\n",
            "  - So in that scenario I can try to use some sort of machine learning technique to learn this dictionary in the literature there are lot of such algorithms that are available that give any data and a set of features will consider a dictionary for you.\n",
            "  - So I will just give you so the names of some of the algorithms and the basic idea on this they work is that so at every point you have to choose a particular split.\n",
            "  - So you have to choose a feature value that is splits my data into certain parts and I have certain criteria to find out what is the best split.\n",
            "  - So one particular criteria is what is the information gain by this.\n",
            "  - They all use one of these criteria.\n",
            "  - In general once you identify what are your interesting features for this task you are not limited to only one classifier like dictionary.\n",
            "  - All these are quite popular classifiers for various NLP applications.\n",
            "  - So we will talk about some of these as we will go to some some advanced topics in this course.\n",
            "  - Now coming back to a problem of tokenization.\n",
            "  - Now remember we talked about token and type distinction.\n",
            "  - How many tokens are there\n",
            "  - So there are 10 types and 11 tokens.\n",
            "  - In practice at least for English you can use certain tool kits that are available like analytic in Python coronal pin Java and you can also use some unique commands.\n",
            "  - So in this course we will mainly be using analytic toolkit for doing all these pretastic task and some other tasks as well.\n",
            "  - But in general you can use any of these three possibilities.\n",
            "  - But still it is good to know what are the challenges that are involved when I have tried to design a tokenization algorithm.\n",
            "  - So this question you might also try to defer to the next processing step that we will see.\n",
            "  - But sometimes you might want to tackle this in the same step.\n",
            "  - Now remember when we were talking about some of the cases Y and L page hard.\n",
            "  - So this problem is related.\n",
            "  - So now they are no fixed answers to these and some of these might depend on what is the application for which you are doing this pre processing.\n",
            "  - So suppose if I am using it for information tree well so I should use the same convention for both my documents as well as the query.\n",
            "  - So then another problem can be how do I handle hyphens in my data.\n",
            "  - So let us see some kind of examples what are the various sorts of hyphens that can be there in my corpus.\n",
            "  - So here I have a sentence from a research paper abstract and the sentence says this paper describes mimic an adaptive mixed initiative spoken dialogue system that provides movie show time information.\n",
            "  - So in the sentence itself you see two different hyphens one is with initiative initiative another is show hyphen time.\n",
            "  - So now can you see that these two are different hyphens the first hyphen is not in general that I will I will use in my text.\n",
            "  - Second hyphen I can use in my text I can write show time within hyphen but how did this hyphen initiative came into the corpus.\n",
            "  - So we have given this title end of line hyphen.\n",
            "  - So you will end up within hyphen.\n",
            "  - But again this is this is not trivial because for show time you will not do the same show time you might want to keep it as it is.\n",
            "  - Similarly if you see in the next sentence 3 to 5 year direct marketing plan 3 to 5 year can be written perfectly without keeping the hyphens.\n",
            "  - But here you are putting it so that it becomes easier to interpret that particular occurrence.\n",
            "  - So again when you are doing tokenization you have problem at how do I handle all these hyphens.\n",
            "  - So that might be a similar problem that you are facing in English but let us take something in German.\n",
            "  - So I have this I have this big sentence here.\n",
            "  - So now what is the problem that you will face when you are processing the German text and you are trying to tokenize it.\n",
            "  - So this problem is there for German not so much for English.\n",
            "  - So this problem becomes a bit more severe.\n",
            "  - Now the same problem is there even for Sanskrit.\n",
            "  - So if some of you have taken Sanskrit course in your class 8th or 10th.\n",
            "  - So if you try to undo the sun this is what you will find at the segmented text.\n",
            "  - You put them one after another without making any changes at the boundary.\n",
            "  - It does not happen in Sanskrit.\n",
            "  - So you see here the letter T gets changed to N.\n",
            "  - Now what is the simplest algorithm that you can think of\n",
            "  - So the simplest algorithm that works is Eglidi algorithm that is called maximum matching algorithm.\n",
            "  - So whenever you are given a string you start your pointer at the beginning of the string.\n",
            "  - So you will find out what is the maximum match as per my dictionary in the string you break there and put the pointer from at the next correct and again do the same thing.\n",
            "  - And this works nicely for most of the cases.\n",
            "  - Now so this silly iteration now can you think of some cases where the segmentation will also be required for English text\n",
            "  - We do not do that but what is the scenario where we are doing that right now\n",
            "  - So does do hashtags come into mind\n",
            "  - Now so when I talk about Sanskrit so this we have a segment are available at the site Sanskrit.ng.fr.\n",
            "  - So we will just briefly see what is the design principle of building a segment or in Sanskrit.\n",
            "  - So first we have a generative model that says how do I generate a sentence in Sanskrit\n",
            "  - I have a finite alphabet sigma that means a set of various characters in Sanskrit.\n",
            "  - That is what I mean by sigma star here.\n",
            "  - So W star here.\n",
            "  - But my problem is how do I analyze them\n",
            "  - So that is the inverse problem that is whenever I am given a sentence W I have to analyze it by inverting the relations of Sunday.\n",
            "  - And I am saying together with a proof that is a formal way of saying that but what I mean is that W 1 to W n when I they combine by Sunday operation they give me the actual sentence the initial sentence.\n",
            "  - So that is how the segmentarage is segmentarage built.\n",
            "  - Now this is a snapshot from the segmentar.\n",
            "  - So I gave the same sentence there and it gave me all the possible ways of analyzing the sentence and it says that there are 120 different solutions.\n",
            "  - So here whenever I have Brianna.\n",
            "  - So coming back to normalization.\n",
            "  - Now I should be able to match them together especially if you are doing information retrieval you are giving a query and you are retrieving from some document.\n",
            "  - Suppose you query contains u dot s dot a and the document contains u s a.\n",
            "  - If you are only doing the surface level match you will not be able to map them to each other.\n",
            "  - We are saying u s a and u dot s dot a should go to one class and they are the same type.\n",
            "  - Sometimes depending on application you might have certain exceptions.\n",
            "  - For example you might have to treat the name and its separately.\n",
            "  - That means what is the base form from this they are derived.\n",
            "  - Similarly car cars cars cars so all these are derived from car.\n",
            "  - So what is morphology\n",
            "  - So these individual units are called various morphim.\n",
            "  - This is in Sanskrit.\n",
            "  - So we will discuss in detail about it in morphology later.\n",
            "  - So this is stemming.\n",
            "  - So you know the actual lemma is automate within e but here.\n",
            "  - So I am just chopping off the affixage at that.\n",
            "  - So I am removing here this I c I o n all and putting it to automate.\n",
            "  - So this is one example.\n",
            "  - So if you try to do a stemming here this is you will find from example e is removed from compressed edged removed and so on.\n",
            "  - So what is the algorithm that is used for for this stemming.\n",
            "  - So we have the portus algorithm that is very very famous and this is again Simpsons set of if the Niles rules.\n",
            "  - So what are some examples here.\n",
            "  - So what is the first step\n",
            "  - So example is carousers goes to carous.\n",
            "  - So cats goes goes to cat but carous does not go to carousers with only one S because this step comes before.\n",
            "  - So walking goes to walk but what about King\n",
            "  - You see in in K there is no vowel.\n",
            "  - So I will be retained as it is same is a vowel and there is an E D I remove this E D and I have this what played to play.\n",
            "  - So you can see that what is the use of this heuristic of having this vowel.\n",
            "  - If you want to match the query with the documents so this is for this week.\n",
            "  - So next week we will start with another Pto Sinsing task that is spilling correction.\n",
            "  - Thank you.\n",
            "\n",
            "Cluster 3:\n",
            "  - So today in this lecture we will start with the basic key processing in language.\n",
            "  - So now what happens when I am pre processing the text in given in any language.\n",
            "  - Suppose I am talking about the language English can you always say that wherever I have a dot it is the end of the sentence.\n",
            "  - So what happens generally in abbreviations\n",
            "  - So now suppose I ask you this question do you have the same problem in other languages like Hindi\n",
            "  - So this problem you will see is again language dependent.\n",
            "  - This problem is there for English but not so for Hindi but we will see there are other problems that do not exist for English language but are there for other Indian language.\n",
            "  - Now whenever I am using a numerical features like the length of the word before dot I need to pick some sort of threshold that is whether the length of the word is between 2 to 3 or say more than 3 between 5 to 7 like that.\n",
            "  - So these algorithms that we have mentioned here like ID3 C415 and C4.\n",
            "  - You can also try out some other classifiers like support vector machines large regression and neural networks.\n",
            "  - So for English most of the problems that we will see are taking care of by the token areas that we have discussed previously.\n",
            "  - So for example here you will see that I if I encounter a word like fill lands in my data.\n",
            "  - So what happens in research papers for example whenever you write a sentence you might to do some sort of justification and that is where you end the line even if it is not the end of the word.\n",
            "  - Then there are some other kind of hyphens like lexical hyphens.\n",
            "  - So you might have these hyphens with various prefixes like copie meta multi etcetera.\n",
            "  - Further there are various issues that might that you might face for certain language but not others.\n",
            "  - So for example is like in French if you have a token like lunch ensemble so you might want to match it with ensemble.\n",
            "  - So now what happens if I am taking a language like Chinese or Japanese.\n",
            "  - So here is a sentence in Chinese.\n",
            "  - So what do you see in Chinese words are written without any spaces in between.\n",
            "  - So now when you are doing the prefossessing your task is to find out what are the individual words tokens in this Chinese sentence.\n",
            "  - Same problem happens with Japanese and you have further complications because they are using four different scripts like Katakana Hiragana Kanjana Rumanji.\n",
            "  - So you might be familiar with the rules of Sanskrit language.\n",
            "  - So this problem is so in Chinese Japanese and Sanskrit but in Sanskrit the problem is slightly more complicated and why is that\n",
            "  - So in Japanese and in Chinese when you try to combine various words together you simply concatenate them.\n",
            "  - So this griddle chooses what are the actual words by taking the maximum match.\n",
            "  - So for example suppose I have hashtags like thank you searching in music Monday.\n",
            "  - So you see there are two possibilities Briath and Briam plus now like that it gives me all the possible ways in which the sentence can be broken into individual word tokens.\n",
            "  - So we talked about this problem that the same word might be written multiple different ways like u dot s dot a versus u s a.\n",
            "  - So whenever I have the word like w r d I will always write small w r d.\n",
            "  - We also have the problem of lamtaization that is you have individual words like m r is and you want to convert them to their lemma.\n",
            "  - Some examples are like for prefix you have unante etcetera for English and a teapra etcetera for Hindi or Sanskrit suffix like etiation etcetera and tarqa k etcetera for Hindi.\n",
            "  - And in general you can also have some infix like you have a word like width and you can fix an in between.\n",
            "  - So this is again language dependent.\n",
            "  - If not then I see whether the word ends with I s I put it to I like ponies goes to ponies.\n",
            "  - So like that these are some steps that I take from my coppers for each word I converted to its its time.\n",
            "\n",
            "Cluster 4:\n",
            "  - So whenever I have a exclamation or question mark I can say probably this is the end of the sentence but is the case the same with a dot.\n",
            "  - So that means you have to build some sort of rule of algorithm for doing that.\n",
            "  - So in this case I have to build a binary classifier.\n",
            "  - But suppose they are not a lot of blank lines then I will check if the final punctuation is equation mark or explanation or equivalent in that case.\n",
            "  - In general you might want to use some other sort of indications.\n",
            "  - So again by feature you can think of a simple rule whether the word I am currently at is a number or I can use the fact where the case of the word with dot is uppercase or lowercase.\n",
            "  - Similarly I can also use the case of the word after dot.\n",
            "  - So my two classes here are end of the sentence and the end of the sentence and what are the observations we were having in general it might be an abbreviation the case of the word and that it is before the dot may be uppercase or lower case and one of these might indicate one class other might indicate other class.\n",
            "  - But one thing you can always keep in mind suppose you are doing it for the application of information tree well the same sort of steps that you apply for your documents should be applied to your query as well otherwise you will not be able to match them perfectly.\n",
            "  - Sometimes they are sententially determined hyphens also that is you put hyphens so that it becomes easier to interpret the sentence like here case paste handle evoked etcetera are optional.\n",
            "  - So you need some sort of compound splitter for German.\n",
            "  - So in this particular case you see here I have the word Briyath and the word Na but when I am combining I am writing it Briyana.\n",
            "  - Let us say it is a case of Chinese.\n",
            "  - So that so you will have to consider this problem in advance and do the preversus in accordingly of either your documents or the query but using the same sort same settings.\n",
            "  - So what we are doing by this we are defining some sort of equivalence class H.\n",
            "  - We also do some sort of case folding that is we can reduce all that as to lower case.\n",
            "  - So if you have a entity general model you might want to keep it as it is without case folding.\n",
            "  - Similarly you might want to keep u s for United States in upper case and not do the case folding.\n",
            "  - And this is important for the application of machine translation also because if you do a case folding here you will know u s in lower case that means something else was such u s that is in United States.\n",
            "  - So again this is some sort of nobulation.\n",
            "  - You are saying all these are some sort of equivalence class because they come from the same word form.\n",
            "\n"
          ]
        }
      ]
    },
    {
      "cell_type": "code",
      "source": [
        "summary"
      ],
      "metadata": {
        "colab": {
          "base_uri": "https://localhost:8080/",
          "height": 72
        },
        "id": "lK1TJJHkgQn4",
        "outputId": "6383d18f-482f-4536-9d66-11fa59eddeea"
      },
      "execution_count": 27,
      "outputs": [
        {
          "output_type": "execute_result",
          "data": {
            "text/plain": [
              "'So this looks again a simple problem but we will see it is not that simple.Not the sentence is what the words.There are two classes end of the sentence or not end of the sentence.So now what happens if I am taking a language like Chinese or Japanese.We also do some sort of case folding that is we can reduce all that as to lower case.'"
            ],
            "application/vnd.google.colaboratory.intrinsic+json": {
              "type": "string"
            }
          },
          "metadata": {},
          "execution_count": 27
        }
      ]
    },
    {
      "cell_type": "code",
      "source": [
        "# Save the summarized text to a file\n",
        "with open(\"irrelevant_gmm_centroid_method_11_clusters.txt\", \"w\") as file:\n",
        "    file.write(summary)\n",
        "\n",
        "print(\"Summarization completed.\")"
      ],
      "metadata": {
        "colab": {
          "base_uri": "https://localhost:8080/"
        },
        "id": "tFBFammpfpAy",
        "outputId": "76a7f136-8bbb-4f70-bb62-0a6bce59f387"
      },
      "execution_count": null,
      "outputs": [
        {
          "output_type": "stream",
          "name": "stdout",
          "text": [
            "Summarization completed.\n"
          ]
        }
      ]
    }
  ]
}